{
  "cells": [
    {
      "cell_type": "code",
      "execution_count": 1,
      "metadata": {
        "id": "69ehd882uVMl"
      },
      "outputs": [],
      "source": [
        "import warnings\n",
        "warnings.filterwarnings(\"ignore\")"
      ]
    },
    {
      "cell_type": "code",
      "execution_count": 2,
      "metadata": {
        "colab": {
          "base_uri": "https://localhost:8080/"
        },
        "id": "mF4D41kBvfba",
        "outputId": "b67c8043-8245-4407-dbd3-882b5010c510"
      },
      "outputs": [
        {
          "output_type": "stream",
          "name": "stdout",
          "text": [
            "Collecting python-dotenv\n",
            "  Downloading python_dotenv-1.0.1-py3-none-any.whl.metadata (23 kB)\n",
            "Downloading python_dotenv-1.0.1-py3-none-any.whl (19 kB)\n",
            "Installing collected packages: python-dotenv\n",
            "Successfully installed python-dotenv-1.0.1\n",
            "\u001b[2K     \u001b[90m━━━━━━━━━━━━━━━━━━━━━━━━━━━━━━━━━━━━━━━━\u001b[0m \u001b[32m50.4/50.4 kB\u001b[0m \u001b[31m3.4 MB/s\u001b[0m eta \u001b[36m0:00:00\u001b[0m\n",
            "\u001b[2K   \u001b[90m━━━━━━━━━━━━━━━━━━━━━━━━━━━━━━━━━━━━━━━━\u001b[0m \u001b[32m1.0/1.0 MB\u001b[0m \u001b[31m43.2 MB/s\u001b[0m eta \u001b[36m0:00:00\u001b[0m\n",
            "\u001b[2K   \u001b[90m━━━━━━━━━━━━━━━━━━━━━━━━━━━━━━━━━━━━━━━━\u001b[0m \u001b[32m401.8/401.8 kB\u001b[0m \u001b[31m25.9 MB/s\u001b[0m eta \u001b[36m0:00:00\u001b[0m\n",
            "\u001b[2K   \u001b[90m━━━━━━━━━━━━━━━━━━━━━━━━━━━━━━━━━━━━━━━━\u001b[0m \u001b[32m294.6/294.6 kB\u001b[0m \u001b[31m22.1 MB/s\u001b[0m eta \u001b[36m0:00:00\u001b[0m\n",
            "\u001b[2K   \u001b[90m━━━━━━━━━━━━━━━━━━━━━━━━━━━━━━━━━━━━━━━━\u001b[0m \u001b[32m76.4/76.4 kB\u001b[0m \u001b[31m6.0 MB/s\u001b[0m eta \u001b[36m0:00:00\u001b[0m\n",
            "\u001b[2K   \u001b[90m━━━━━━━━━━━━━━━━━━━━━━━━━━━━━━━━━━━━━━━━\u001b[0m \u001b[32m78.0/78.0 kB\u001b[0m \u001b[31m5.1 MB/s\u001b[0m eta \u001b[36m0:00:00\u001b[0m\n",
            "\u001b[2K   \u001b[90m━━━━━━━━━━━━━━━━━━━━━━━━━━━━━━━━━━━━━━━━\u001b[0m \u001b[32m141.9/141.9 kB\u001b[0m \u001b[31m10.0 MB/s\u001b[0m eta \u001b[36m0:00:00\u001b[0m\n",
            "\u001b[2K   \u001b[90m━━━━━━━━━━━━━━━━━━━━━━━━━━━━━━━━━━━━━━━━\u001b[0m \u001b[32m54.5/54.5 kB\u001b[0m \u001b[31m3.9 MB/s\u001b[0m eta \u001b[36m0:00:00\u001b[0m\n",
            "\u001b[2K   \u001b[90m━━━━━━━━━━━━━━━━━━━━━━━━━━━━━━━━━━━━━━━━\u001b[0m \u001b[32m58.3/58.3 kB\u001b[0m \u001b[31m4.8 MB/s\u001b[0m eta \u001b[36m0:00:00\u001b[0m\n",
            "\u001b[2K   \u001b[90m━━━━━━━━━━━━━━━━━━━━━━━━━━━━━━━━━━━━━━━━\u001b[0m \u001b[32m2.4/2.4 MB\u001b[0m \u001b[31m54.1 MB/s\u001b[0m eta \u001b[36m0:00:00\u001b[0m\n",
            "\u001b[2K   \u001b[90m━━━━━━━━━━━━━━━━━━━━━━━━━━━━━━━━━━━━━━━━\u001b[0m \u001b[32m49.3/49.3 kB\u001b[0m \u001b[31m3.5 MB/s\u001b[0m eta \u001b[36m0:00:00\u001b[0m\n",
            "\u001b[2K   \u001b[90m━━━━━━━━━━━━━━━━━━━━━━━━━━━━━━━━━━━━━━━━\u001b[0m \u001b[32m49.7/49.7 kB\u001b[0m \u001b[31m3.0 MB/s\u001b[0m eta \u001b[36m0:00:00\u001b[0m\n",
            "\u001b[2K   \u001b[90m━━━━━━━━━━━━━━━━━━━━━━━━━━━━━━━━━━━━━━━━\u001b[0m \u001b[32m383.7/383.7 kB\u001b[0m \u001b[31m23.6 MB/s\u001b[0m eta \u001b[36m0:00:00\u001b[0m\n",
            "\u001b[2K   \u001b[90m━━━━━━━━━━━━━━━━━━━━━━━━━━━━━━━━━━━━━━━━\u001b[0m \u001b[32m1.2/1.2 MB\u001b[0m \u001b[31m51.1 MB/s\u001b[0m eta \u001b[36m0:00:00\u001b[0m\n",
            "\u001b[2K   \u001b[90m━━━━━━━━━━━━━━━━━━━━━━━━━━━━━━━━━━━━━━━━\u001b[0m \u001b[32m325.2/325.2 kB\u001b[0m \u001b[31m21.5 MB/s\u001b[0m eta \u001b[36m0:00:00\u001b[0m\n",
            "\u001b[?25h"
          ]
        }
      ],
      "source": [
        "!pip install python-dotenv\n",
        "!pip install --upgrade --quiet langchain\n",
        "!pip install --quiet langchain-community\n",
        "!pip install --upgrade --quiet langchain-together"
      ]
    },
    {
      "cell_type": "code",
      "execution_count": 3,
      "metadata": {
        "id": "NEcDnZLlzfPB",
        "colab": {
          "base_uri": "https://localhost:8080/"
        },
        "outputId": "33597882-c1ff-4027-d35c-e872dc30a232"
      },
      "outputs": [
        {
          "output_type": "stream",
          "name": "stdout",
          "text": [
            "Requirement already satisfied: python-dotenv in /usr/local/lib/python3.10/dist-packages (1.0.1)\n"
          ]
        }
      ],
      "source": [
        "!pip install python-dotenv\n",
        "!pip install --upgrade --quiet langchain-together"
      ]
    },
    {
      "cell_type": "code",
      "execution_count": 5,
      "metadata": {
        "colab": {
          "base_uri": "https://localhost:8080/"
        },
        "id": "d0ErcF4QdUF6",
        "outputId": "b344a966-87fc-450a-ec9a-1379cb4044eb"
      },
      "outputs": [
        {
          "output_type": "stream",
          "name": "stdout",
          "text": [
            "Requirement already satisfied: python-dotenv in /usr/local/lib/python3.10/dist-packages (1.0.1)\n"
          ]
        }
      ],
      "source": [
        "##  setting up the language model\n",
        "import os\n",
        "# Install the correct package for dotenv\n",
        "!pip install python-dotenv\n",
        "from dotenv import load_dotenv\n",
        "from langchain_together import ChatTogether\n",
        "\n",
        "## Load the environment variables\n",
        "# Make sure the .env file is in the same directory as this script\n",
        "load_dotenv(override=True)\n",
        "\n",
        "# Get the API key from the environment variable\n",
        "# Replace 'TOGETHER_API_KEY' with the actual name if it's different\n",
        "api_key = os.getenv('TOGETHER_API_KEY')\n",
        "\n",
        "# Check if the API key is found\n",
        "if api_key is None:\n",
        "    raise ValueError(\"TOGETHER_API_KEY environment variable not found. Please set it in your .env file.\")\n",
        "\n",
        "# Initialize ChatTogether with the API key\n",
        "llm = ChatTogether(api_key=api_key, temperature=0.0, model=\"meta-llama/Meta-Llama-3.1-8B-Instruct-Turbo\")"
      ]
    },
    {
      "cell_type": "code",
      "execution_count": 6,
      "metadata": {
        "colab": {
          "base_uri": "https://localhost:8080/"
        },
        "id": "U8N_ccwsdUF7",
        "outputId": "454b1772-a968-4c06-bf47-57e6e5d162f8"
      },
      "outputs": [
        {
          "output_type": "stream",
          "name": "stdout",
          "text": [
            "Collecting youtube_transcript_api\n",
            "  Downloading youtube_transcript_api-0.6.2-py3-none-any.whl.metadata (15 kB)\n",
            "Requirement already satisfied: requests in /usr/local/lib/python3.10/dist-packages (from youtube_transcript_api) (2.32.3)\n",
            "Requirement already satisfied: charset-normalizer<4,>=2 in /usr/local/lib/python3.10/dist-packages (from requests->youtube_transcript_api) (3.3.2)\n",
            "Requirement already satisfied: idna<4,>=2.5 in /usr/local/lib/python3.10/dist-packages (from requests->youtube_transcript_api) (3.10)\n",
            "Requirement already satisfied: urllib3<3,>=1.21.1 in /usr/local/lib/python3.10/dist-packages (from requests->youtube_transcript_api) (2.2.3)\n",
            "Requirement already satisfied: certifi>=2017.4.17 in /usr/local/lib/python3.10/dist-packages (from requests->youtube_transcript_api) (2024.8.30)\n",
            "Downloading youtube_transcript_api-0.6.2-py3-none-any.whl (24 kB)\n",
            "Installing collected packages: youtube_transcript_api\n",
            "Successfully installed youtube_transcript_api-0.6.2\n",
            "Collecting pytube\n",
            "  Downloading pytube-15.0.0-py3-none-any.whl.metadata (5.0 kB)\n",
            "Downloading pytube-15.0.0-py3-none-any.whl (57 kB)\n",
            "\u001b[2K   \u001b[90m━━━━━━━━━━━━━━━━━━━━━━━━━━━━━━━━━━━━━━━━\u001b[0m \u001b[32m57.6/57.6 kB\u001b[0m \u001b[31m4.4 MB/s\u001b[0m eta \u001b[36m0:00:00\u001b[0m\n",
            "\u001b[?25hInstalling collected packages: pytube\n",
            "Successfully installed pytube-15.0.0\n"
          ]
        }
      ],
      "source": [
        "!pip install youtube_transcript_api\n",
        "!pip install pytube"
      ]
    },
    {
      "cell_type": "code",
      "execution_count": 7,
      "metadata": {
        "id": "5NbvofcpdUF7"
      },
      "outputs": [],
      "source": [
        "## import the youtube document loader from lanchain\n",
        "from langchain_community.document_loaders import YoutubeLoader\n",
        "\n",
        "video_url='https://www.youtube.com/watch?v=gaWxyWwziwE'\n",
        "loader=YoutubeLoader.from_youtube_url(video_url,add_video_info=False)\n",
        "data=loader.load()"
      ]
    },
    {
      "cell_type": "code",
      "execution_count": 8,
      "metadata": {
        "colab": {
          "base_uri": "https://localhost:8080/",
          "height": 156
        },
        "id": "TW9jCnwtdUF8",
        "outputId": "7e9cd978-efdc-4f27-94da-3a8da978e46c"
      },
      "outputs": [
        {
          "output_type": "execute_result",
          "data": {
            "text/plain": [
              "\"what should I build with AI if this is the question that you are struggling with watch this video till the end Paul Graham who is one of the founders of why combinator the startup school he says that the work that you do should have three qualities first it should be something that you have a natural aptitude for second it must be something that you have deep interest in so that you can you know overcome challenges that will come your way while you are working on that project and third thing is that particular project that thing should offer scope to do great work now I have been working in Tech I like solving problems in the world of engineering and AI I have deep and Trust in AI but now it comes down to the third question the third quality okay what should I work on that will offer you know great success and AI as you all know is filled with noise at this point partly because of you know there's so much hype and everybody wants to write the wave so the whole field is filled with too many bad ideas at this point it comes down to how to find good ideas and in order to answer this question I thought why not follow someone who has a track record of identifying and nurturing successful ideas in the tech industry why combinator why combinator's selection process has consistently surfaced companies that go on to rehap shape Industries entire sectors and that makes their portfolio a valuable indicator of emerging Trends and Technologies so all I had to do was to look at the kind of AI companies and Founders VC is backing specifically I wanted to learn what are the hottest Industries and sectors for AI startups which Industries have untabbed potential and you know industries that are ripe for AI disruption U what all companies and what all startups are solving uh problems in emerging Technologies like blockchain or Quantum Computing and there must be many companies working on AI safety because we have so many regulations coming in so companies working on data privacy AI safety accessibility explainability observability those are the kind of uh insights that we want and lastly you also want to understand the typical background and skills these Founders have so common traits of YC Founders in order to understand how practically feasible it is for you to pursue similar kind of projects now for those who do not know why combinator is a leading startup accelerator that provides seed funding mentorship and resources to help early stage startups succeed basically they invest $500,000 Us in each startup that is accepted into their three-month program uh in exchange for a small Equity stake and uh this program aims to help help these startups dramatically improve their product help them with user growth and also uh increases their options to raise additional funding now coming to the data collection process so I collected the data from YC's startup directory you have more than 5,000 companies over here that they have bagged so far I was only interested in AI companies that to from last four CS summer 24 Winter 24 summer 23 winter 23 and the tags that I've selected artificial intelligence AI generative AI so all of these AI companies are listed over here and if you look at you know a sample page from YC U the name is provided the description over here the founder details so I've captured all these along with all the tags that they have and cleaned the data captured it in this a table sheet okay so I have company name description category these are 4 17 companies that I collected while looking at a subset of these companies I have found many exceptional use cases and in fact uh part of the data collection process has been uh done with the help of company called gum Loop which is backed by YC which was previously called agentive okay and I find myself using gum Loop more than I had imagine now coming to the analysis I've tried to capture my entire analysis in this newsletter a article of mine uh it's called high signal AI uh the link will be provided in the description below the first part of the analysis was to look at the hottest Industries and sectors that have adopted AI quickly where people have found really good use cases and looking at this plot you'll see that Healthcare and biotech is the leader here with 45 companies solving problems in this industry which accounts for 10.8% of my data of all the companies that I have collected followed by fintech with 38 companies 37 companies are building some sort of developer tools 34 companies are trying to automate some sort of sales or marketing workflow and then 18 companies in education so if you look at these sample companies I have this study which is trying to innovate in this education industry an AI math tutor for every student so you have these examples in each and every industry and Healthcare and biotech is the leader so far now next you would want to understand should you build in B2B or b2c the numbers here are going to amaze you you have 338 companies out of 4177 building in the B2B sector 81.1% of the companies are solving B2B problems only 18.9% companies are operating in this b2c sector and you can find a few examples like gig ml which is helping inter Enterprises build and deploy large language models and then b2c you have Rex pocket pod shortbread these are the kind of companies and kind of problems that people are solving in the b2c sector so these numbers showcase you know strong confidence in B2B sector uh from investors uh and uh b2c has a lot of untabbed potential uh as you can see that only 20% of the companies are operating in this particular sector infrastructure versus application so this is obvious U as we in traditional software engineering majority of the people are going to build in the application layer that means they are going to build some sort of application using the you know underlying architecture underlying infrastructure and for obvious reasons infrastructure layer is hard to build the skill set required is also rare and investment requirements are also high so this data as well coming from YC may not be representative of the number of companies operating in the infrastructure layer uh which obviously is going to be you know low uh in number so 14.9% companies in infrastructure layer and 355 companies operating in the application layer uh so 85.1% and 14.9% over here automation has been the biggest use case of AI across all Industries and there are two types of automations one is completely AI driven and another one is uh co-pilots or assistants so AI assisted human work that means you are trying to help humans deliver faster you are automating some part of the workflow now here 69.1% of the companies are trying to build some sort of assistance to help uh humans deliver faster and 31% of the companies are building entire AI driven automations there are companies like ofon that are trying to automate order taking at fast food drive-throughs and there are companies like constructible that are building co-pilots for construction teams helping streamlined projects ideation reduced losses during you know due to bad data we've seen which Industries have adopted AI quickly but what about the industries that are still lagging which need more and more Innovation which need more people to incorporate AI to solve their problems and these are manufacturing agriculture energy retail 16 companies only combined together in these industries so you need more and more people and these industries present opportunities for first movers in AI adoption now let's talk about the Technologies specifically AI technologies that these startups are leveraging now when I talk about AI Technologies I talk about machine learning generative AI natural language processing computer vision uh media Generation video processing so on and so forth and take these numbers with a pinch of solt because a lot of these Technologies are overlapping so there may be companies that are using multiple AI Technologies to solve their problems and at the top for obvious reasons we have generative AI because llms are are advancing pretty quickly 78 companies using or building something using gen AI then we have machine learning 56 companies NLP 47 and computer version 18 as I said there will be many companies which are using both NLP or generative AI using both machine learning computer vision so on and so forth moving on to open source versus proprietary uh now this data may not be correct because VC obviously would not want to you know fund a lot of Open Source companies so 95.7 % 399 companies are proprietary and 4.3% of the companies are building in open source please note that there are a lot of companies out there which are coming out of Open Source projects if we talk about other Technologies and other different types of technical trends that we see in these AI startups Edge AI so models running on your phone uh Apple is doing a lot of work in this particular category but uh when we look at YC data only two companies .5% of the companies mentioned that they're solving something in Ed aai only five companies mentioned that they're working or trying to solve something with model efficiency that is reducing the computational resources that it needs to train one large language model so 1.2% of the compan is focusing on AI model uh efficiency 46 companies are building something with realtime AI uh that is voice agents uh primarily multimodal so approximately 22 companies 5.3% appear to be worth working on multimodel AI Solutions now as AI is evolving there are a lot of regulations there are a lot of concerns around data privacy AI safety explainability so on and so forth so there are layers of critical issues that are required to be solved now there are startups that are addressing data privacy and security concerns 18 companies 4.3% explicitly mentioned that they're solving something in data privacy and security sector so cyber security and data privacy one such company is Coria there are startups only five uh so far which are working on ethical AI or AI safety uh so there's a lot of potential over there startups making AI accessible for non-technical users so there are companies like Creo which is trying to build internal tools with AI without coding so no code tools there are three companies that are working on explainable a adding more transparency then we have uh 11 companies solving challenges in climate Tech uh three companies uh trying to address issues with bias and fairness using AI we have ai for small businesses versus Enterprise Solutions so if you look at this 70.7% of the companies are Enterprise solution only 88.9% are built for small businesses looking at these numbers we definitely need more and more people to work on these critical issues around safety regulation data privacy uh security and uh there is a lot of potential to grow uh Within These uh sectors coming to some hard uh emerging Technologies which is blockchain and Quantum Computing now obviously these Technologies and the fields are so complex that you would not have a lot of companies solving these problems but we have a bunch of them Quantum Computing there are two companies uh which are trying to incorporate AI with Quantum Computing solve something over there then we have three companies working on blockchain so conductor Quantum harnessing Quantum computing to potentially solve complex problems beyond the reach of classical Ai and then we have companies like salio or kadalo merging blockchain with AI for enhanced data integrity and decentralized intelligence so there is still a lot of potential uh Within These two sectors specifically I'm I'm more interested in blockchain how you integrate blockchain with AI to build something uh amazing now let's come to the background of the people who are willing to work on these problems work on these startups so typical background of a YC banked founder here you can see most more than 75% of the founders have strong technical expertise in computer science or software engineering machine learning or data science especially if you are an AI founder you have to be very strong in programming so educational background most around 20% of the found ERS are coming from prestigious institutes like Howard MIT Stanford Berkeley 25% of them have previously worked at strong leading tech companies like Google Facebook meta okay 15% of the founders have prior startup experience so they have worked on you know some of their own startups before and uh 8% of the founders come from academic research backgrounds phds postdoc University professors and 45% have co-founding teams so that means a technical founder plus a business or operations founder so they together make uh a good team 24% have backgrounds that position them to disrupt traditional industry so they have already uh done deep work within those Industries and they would bring in perspective that will help the technical founder or the business founder to take it further within that particular industry now not to mention that if you have done exceptional work in the past uh without having these titles or prestigious institutes in your background you can still make a mark uh all you need is you know drive and showcase some evidence that you can actually you know uh overcome those challenges that are going to come when you will work on something hard something that y would love to uh you know invest in now now putting this entire analysis together has what I would recommend to anyone but obviously you know feel free to go through the entire analysis and build the answer for yourself I would suggest that you focus on the B2B sector at this point okay uh look at underserved uh Industries manufacturing retail if you know somebody that's good uh prioritize technical expertise because you would need uh technical expertise to thrive in this business if you do not have that expertise partner up with somebody who does then uh leverage generative AI in an Innovative manner to stand out because there are many companies which are just rappers and they'll soon be uh you know out of business because as soon as open a releases their next Model A lot of businesses are going to shut uh because of that then address ethical concerns this is a category which is hard to solve but will have a lot of potential because there going to be many regulations coming in new bill are going to pass and privacy cyers these are issues that a lot of companies are going to have to deal with so if you can build a solution around it yeah you are going to stand out in that particular category then so yep that's been it and I hope that you found this video useful insightful and if you did please give it a thumbs up that's the best way you can help me subscribe and I'll catch you guys in the next one until then keep learning and keep building with a\""
            ],
            "application/vnd.google.colaboratory.intrinsic+json": {
              "type": "string"
            }
          },
          "metadata": {},
          "execution_count": 8
        }
      ],
      "source": [
        "#show the extracted page content\n",
        "data[0].page_content"
      ]
    },
    {
      "cell_type": "code",
      "execution_count": 9,
      "metadata": {
        "colab": {
          "base_uri": "https://localhost:8080/"
        },
        "id": "4h4aJyz1dUF8",
        "outputId": "b55f9fef-b556-4aae-b9eb-cb547460602c"
      },
      "outputs": [
        {
          "output_type": "execute_result",
          "data": {
            "text/plain": [
              "AIMessage(content=\"**Summary:**\\nThe video discusses the topic of building a successful AI project. The speaker, who has been working in the tech industry, is struggling to decide on a project that offers great success and aligns with their interests. They decide to analyze the portfolio of Y Combinator (YC), a leading startup accelerator, to identify emerging trends and technologies in the AI space. The speaker collects data from YC's startup directory and analyzes it to identify the hottest industries and sectors for AI startups, the types of AI technologies being used, and the backgrounds of successful founders. The analysis reveals that the B2B sector is the most promising, with a strong focus on automation, generative AI, and machine learning. The speaker also highlights the importance of addressing ethical concerns, such as data privacy and security, and the potential for growth in emerging technologies like blockchain and Quantum Computing.\\n\\n**Five Key Points:**\\n\\n1. **B2B sector is the most promising**: 81.1% of AI startups are building B2B solutions, indicating a strong focus on this sector.\\n2. **Automation is the biggest use case**: 69.1% of companies are building AI-powered assistants to help humans deliver faster, while 31% are building entirely AI-driven automations.\\n3. **Generative AI is a top technology**: 78 companies are using or building something using generative AI, making it the most popular AI technology among startups.\\n4. **Addressing ethical concerns is crucial**: With regulations and concerns around data privacy, AI safety, and explainability, startups that address these issues will have a high potential for growth.\\n5. **Technical expertise is essential**: Most successful founders have strong technical expertise in computer science, software engineering, or data science, making it essential for AI founders to have a strong programming background.\", additional_kwargs={'refusal': None}, response_metadata={'token_usage': {'completion_tokens': 369, 'prompt_tokens': 2969, 'total_tokens': 3338, 'completion_tokens_details': None, 'prompt_tokens_details': None}, 'model_name': 'meta-llama/Meta-Llama-3.1-8B-Instruct-Turbo', 'system_fingerprint': None, 'finish_reason': 'eos', 'logprobs': None}, id='run-92a5d543-072f-4254-bc8d-05b749213143-0', usage_metadata={'input_tokens': 2969, 'output_tokens': 369, 'total_tokens': 3338, 'input_token_details': {}, 'output_token_details': {}})"
            ]
          },
          "metadata": {},
          "execution_count": 9
        }
      ],
      "source": [
        "##defining system and human message for the llm to take action\n",
        "messages=[\n",
        "    (\n",
        "        \"system\",\n",
        "        \"\"\"Read through the entire transcript carefully.\n",
        "            Provide a concise summary of the video's main topic and purpose.\n",
        "            Extract and list the five most interesting or important points from the transcript.\n",
        "\n",
        "        -Ensure your summary and key points capture the essence of the video without including unnecessary details.\n",
        "        -Use clear, engaging language that is accessible to a general audience.\n",
        "        -If the transcript includes any statistical data, expert opinion, or unique insights,\n",
        "        prioritize including these in your summary or key points\"\"\",\n",
        "\n",
        "    ),\n",
        "    (\"human\", data[0].page_content),\n",
        "]\n",
        "ai_msg=llm.invoke(messages)\n",
        "ai_msg"
      ]
    },
    {
      "cell_type": "code",
      "execution_count": 10,
      "metadata": {
        "id": "CRDox2OKdUF8"
      },
      "outputs": [],
      "source": [
        "#set up a prompt template for summarizing a video transcript using LangChain\n",
        "\n",
        "# Import necessary classes from LangChain\n",
        "from langchain.prompts import PromptTemplate\n",
        "from langchain import LLMChain\n",
        "\n",
        "# Define a PromptTemplate for summarizing video transcripts\n",
        "# The template including instructions for the AI model on how to process the transcript\n",
        "summariser_template= PromptTemplate(\n",
        "    input_variables=[\"video_transcript\"],\n",
        "    template=\"\"\"\"\n",
        "    Read through the entire transcript carefully.\n",
        "    Provide a concise summary of the video's main topic and purpose.\n",
        "    Extract and list the five most interesting or important points from the transcript.\n",
        "\n",
        "    -Ensure your summary and key points capture the essence of the video without including unnecessary details.\n",
        "    -Use clear, engaging language that is accessible to a general audience.\n",
        "    -If the transcript includes any statistical data, expert opinion, or unique insights,\n",
        "    prioritize including these in your summary or key points.\n",
        "\n",
        "  Video transcript: {video_transcript}\n",
        "  \"\"\"\n",
        ")"
      ]
    },
    {
      "cell_type": "code",
      "execution_count": 11,
      "metadata": {
        "colab": {
          "base_uri": "https://localhost:8080/"
        },
        "id": "ZxX13pgzdUF9",
        "outputId": "a114a3e8-8b29-48be-cf03-7872de875ab9"
      },
      "outputs": [
        {
          "output_type": "stream",
          "name": "stdout",
          "text": [
            "Requirement already satisfied: langchain in /usr/local/lib/python3.10/dist-packages (0.3.2)\n",
            "Requirement already satisfied: PyYAML>=5.3 in /usr/local/lib/python3.10/dist-packages (from langchain) (6.0.2)\n",
            "Requirement already satisfied: SQLAlchemy<3,>=1.4 in /usr/local/lib/python3.10/dist-packages (from langchain) (2.0.35)\n",
            "Requirement already satisfied: aiohttp<4.0.0,>=3.8.3 in /usr/local/lib/python3.10/dist-packages (from langchain) (3.10.8)\n",
            "Requirement already satisfied: async-timeout<5.0.0,>=4.0.0 in /usr/local/lib/python3.10/dist-packages (from langchain) (4.0.3)\n",
            "Requirement already satisfied: langchain-core<0.4.0,>=0.3.8 in /usr/local/lib/python3.10/dist-packages (from langchain) (0.3.9)\n",
            "Requirement already satisfied: langchain-text-splitters<0.4.0,>=0.3.0 in /usr/local/lib/python3.10/dist-packages (from langchain) (0.3.0)\n",
            "Requirement already satisfied: langsmith<0.2.0,>=0.1.17 in /usr/local/lib/python3.10/dist-packages (from langchain) (0.1.132)\n",
            "Requirement already satisfied: numpy<2,>=1 in /usr/local/lib/python3.10/dist-packages (from langchain) (1.26.4)\n",
            "Requirement already satisfied: pydantic<3.0.0,>=2.7.4 in /usr/local/lib/python3.10/dist-packages (from langchain) (2.9.2)\n",
            "Requirement already satisfied: requests<3,>=2 in /usr/local/lib/python3.10/dist-packages (from langchain) (2.32.3)\n",
            "Requirement already satisfied: tenacity!=8.4.0,<9.0.0,>=8.1.0 in /usr/local/lib/python3.10/dist-packages (from langchain) (8.5.0)\n",
            "Requirement already satisfied: aiohappyeyeballs>=2.3.0 in /usr/local/lib/python3.10/dist-packages (from aiohttp<4.0.0,>=3.8.3->langchain) (2.4.3)\n",
            "Requirement already satisfied: aiosignal>=1.1.2 in /usr/local/lib/python3.10/dist-packages (from aiohttp<4.0.0,>=3.8.3->langchain) (1.3.1)\n",
            "Requirement already satisfied: attrs>=17.3.0 in /usr/local/lib/python3.10/dist-packages (from aiohttp<4.0.0,>=3.8.3->langchain) (24.2.0)\n",
            "Requirement already satisfied: frozenlist>=1.1.1 in /usr/local/lib/python3.10/dist-packages (from aiohttp<4.0.0,>=3.8.3->langchain) (1.4.1)\n",
            "Requirement already satisfied: multidict<7.0,>=4.5 in /usr/local/lib/python3.10/dist-packages (from aiohttp<4.0.0,>=3.8.3->langchain) (6.1.0)\n",
            "Requirement already satisfied: yarl<2.0,>=1.12.0 in /usr/local/lib/python3.10/dist-packages (from aiohttp<4.0.0,>=3.8.3->langchain) (1.13.1)\n",
            "Requirement already satisfied: jsonpatch<2.0,>=1.33 in /usr/local/lib/python3.10/dist-packages (from langchain-core<0.4.0,>=0.3.8->langchain) (1.33)\n",
            "Requirement already satisfied: packaging<25,>=23.2 in /usr/local/lib/python3.10/dist-packages (from langchain-core<0.4.0,>=0.3.8->langchain) (24.1)\n",
            "Requirement already satisfied: typing-extensions>=4.7 in /usr/local/lib/python3.10/dist-packages (from langchain-core<0.4.0,>=0.3.8->langchain) (4.12.2)\n",
            "Requirement already satisfied: httpx<1,>=0.23.0 in /usr/local/lib/python3.10/dist-packages (from langsmith<0.2.0,>=0.1.17->langchain) (0.27.2)\n",
            "Requirement already satisfied: orjson<4.0.0,>=3.9.14 in /usr/local/lib/python3.10/dist-packages (from langsmith<0.2.0,>=0.1.17->langchain) (3.10.7)\n",
            "Requirement already satisfied: requests-toolbelt<2.0.0,>=1.0.0 in /usr/local/lib/python3.10/dist-packages (from langsmith<0.2.0,>=0.1.17->langchain) (1.0.0)\n",
            "Requirement already satisfied: annotated-types>=0.6.0 in /usr/local/lib/python3.10/dist-packages (from pydantic<3.0.0,>=2.7.4->langchain) (0.7.0)\n",
            "Requirement already satisfied: pydantic-core==2.23.4 in /usr/local/lib/python3.10/dist-packages (from pydantic<3.0.0,>=2.7.4->langchain) (2.23.4)\n",
            "Requirement already satisfied: charset-normalizer<4,>=2 in /usr/local/lib/python3.10/dist-packages (from requests<3,>=2->langchain) (3.3.2)\n",
            "Requirement already satisfied: idna<4,>=2.5 in /usr/local/lib/python3.10/dist-packages (from requests<3,>=2->langchain) (3.10)\n",
            "Requirement already satisfied: urllib3<3,>=1.21.1 in /usr/local/lib/python3.10/dist-packages (from requests<3,>=2->langchain) (2.2.3)\n",
            "Requirement already satisfied: certifi>=2017.4.17 in /usr/local/lib/python3.10/dist-packages (from requests<3,>=2->langchain) (2024.8.30)\n",
            "Requirement already satisfied: greenlet!=0.4.17 in /usr/local/lib/python3.10/dist-packages (from SQLAlchemy<3,>=1.4->langchain) (3.1.1)\n",
            "Requirement already satisfied: anyio in /usr/local/lib/python3.10/dist-packages (from httpx<1,>=0.23.0->langsmith<0.2.0,>=0.1.17->langchain) (3.7.1)\n",
            "Requirement already satisfied: httpcore==1.* in /usr/local/lib/python3.10/dist-packages (from httpx<1,>=0.23.0->langsmith<0.2.0,>=0.1.17->langchain) (1.0.6)\n",
            "Requirement already satisfied: sniffio in /usr/local/lib/python3.10/dist-packages (from httpx<1,>=0.23.0->langsmith<0.2.0,>=0.1.17->langchain) (1.3.1)\n",
            "Requirement already satisfied: h11<0.15,>=0.13 in /usr/local/lib/python3.10/dist-packages (from httpcore==1.*->httpx<1,>=0.23.0->langsmith<0.2.0,>=0.1.17->langchain) (0.14.0)\n",
            "Requirement already satisfied: jsonpointer>=1.9 in /usr/local/lib/python3.10/dist-packages (from jsonpatch<2.0,>=1.33->langchain-core<0.4.0,>=0.3.8->langchain) (3.0.0)\n",
            "Requirement already satisfied: exceptiongroup in /usr/local/lib/python3.10/dist-packages (from anyio->httpx<1,>=0.23.0->langsmith<0.2.0,>=0.1.17->langchain) (1.2.2)\n"
          ]
        }
      ],
      "source": [
        "pip install --upgrade langchain\n"
      ]
    },
    {
      "cell_type": "code",
      "execution_count": 12,
      "metadata": {
        "colab": {
          "base_uri": "https://localhost:8080/"
        },
        "id": "pOI3boUvdUF9",
        "outputId": "12e59f69-3502-4466-84b3-83d1dfcce04b"
      },
      "outputs": [
        {
          "output_type": "stream",
          "name": "stderr",
          "text": [
            "<ipython-input-12-fa84e1f249c2>:2: LangChainDeprecationWarning: The class `LLMChain` was deprecated in LangChain 0.1.17 and will be removed in 1.0. Use :meth:`~RunnableSequence, e.g., `prompt | llm`` instead.\n",
            "  chain = LLMChain(llm=llm, prompt=summariser_template)\n",
            "<ipython-input-12-fa84e1f249c2>:5: LangChainDeprecationWarning: The method `Chain.run` was deprecated in langchain 0.1.0 and will be removed in 1.0. Use :meth:`~invoke` instead.\n",
            "  summary = chain.run({\n"
          ]
        }
      ],
      "source": [
        "# Create the LLMChain\n",
        "chain = LLMChain(llm=llm, prompt=summariser_template)\n",
        "\n",
        "# Run the chain with the provided video transcript using .run()\n",
        "summary = chain.run({\n",
        "    \"video_transcript\": data[0].page_content\n",
        "})\n",
        "\n",
        "# Alternatively, you can try using .predict()\n",
        "summary = chain.predict(video_transcript=data[0].page_content)\n"
      ]
    },
    {
      "cell_type": "code",
      "execution_count": 17,
      "metadata": {
        "colab": {
          "base_uri": "https://localhost:8080/"
        },
        "id": "l0bBfGQbdUF9",
        "outputId": "6c79af44-9241-4699-97ea-82a2c826ac56"
      },
      "outputs": [
        {
          "output_type": "stream",
          "name": "stdout",
          "text": [
            "**Summary:**\n",
            "\n",
            "The video discusses the topic of what to build with AI, specifically focusing on the hottest industries and sectors for AI startups. The speaker, who has analyzed data from Y Combinator's startup directory, identifies the top industries and sectors for AI adoption, including Healthcare and Biotech, Fintech, and B2B solutions. The speaker also highlights the importance of technical expertise, particularly in computer science or software engineering, and the need to address emerging technologies such as blockchain and Quantum Computing. The video provides insights and recommendations for individuals looking to build AI startups, including focusing on the B2B sector, leveraging generative AI, and addressing ethical concerns.\n",
            "\n",
            "**Five Key Points:**\n",
            "\n",
            "1. **Healthcare and Biotech is the leading industry for AI adoption**: With 45 companies solving problems in this industry, accounting for 10.8% of the data collected, Healthcare and Biotech is the sector with the most AI adoption.\n",
            "2. **B2B sector is the dominant sector for AI startups**: 81.1% of the companies analyzed are building B2B solutions, while only 18.9% are operating in the B2C sector.\n",
            "3. **Generative AI is the most popular AI technology**: 78 companies are using or building something using generative AI, followed by machine learning (56 companies), NLP (47), and computer vision (18).\n",
            "4. **Technical expertise is crucial for AI startups**: Most founders (75%) have strong technical expertise in computer science or software engineering, machine learning, or data science, and 45% have co-founding teams with a technical and business/operations founder.\n",
            "5. **Addressing emerging technologies and ethical concerns is key**: The speaker highlights the importance of addressing emerging technologies such as blockchain and Quantum Computing, as well as ethical concerns such as data privacy, AI safety, and explainability, which are critical issues that require solutions.\n"
          ]
        }
      ],
      "source": [
        "print(summary)"
      ]
    },
    {
      "cell_type": "code",
      "execution_count": 18,
      "metadata": {
        "colab": {
          "base_uri": "https://localhost:8080/",
          "height": 375
        },
        "id": "V2mXqeJXdUF9",
        "outputId": "814389a3-8b92-4dbe-c246-22dd62798184"
      },
      "outputs": [
        {
          "output_type": "display_data",
          "data": {
            "text/plain": [
              "<IPython.core.display.Markdown object>"
            ],
            "text/markdown": "**Summary:**\n\nThe video discusses the topic of what to build with AI, specifically focusing on the hottest industries and sectors for AI startups. The speaker, who has analyzed data from Y Combinator's startup directory, identifies the top industries and sectors for AI adoption, including Healthcare and Biotech, Fintech, and B2B solutions. The speaker also highlights the importance of technical expertise, particularly in computer science or software engineering, and the need to address emerging technologies such as blockchain and Quantum Computing. The video provides insights and recommendations for individuals looking to build AI startups, including focusing on the B2B sector, leveraging generative AI, and addressing ethical concerns.\n\n**Five Key Points:**\n\n1. **Healthcare and Biotech is the leading industry for AI adoption**: With 45 companies solving problems in this industry, accounting for 10.8% of the data collected, Healthcare and Biotech is the sector with the most AI adoption.\n2. **B2B sector is the dominant sector for AI startups**: 81.1% of the companies analyzed are building B2B solutions, while only 18.9% are operating in the B2C sector.\n3. **Generative AI is the most popular AI technology**: 78 companies are using or building something using generative AI, followed by machine learning (56 companies), NLP (47), and computer vision (18).\n4. **Technical expertise is crucial for AI startups**: Most founders (75%) have strong technical expertise in computer science or software engineering, machine learning, or data science, and 45% have co-founding teams with a technical and business/operations founder.\n5. **Addressing emerging technologies and ethical concerns is key**: The speaker highlights the importance of addressing emerging technologies such as blockchain and Quantum Computing, as well as ethical concerns such as data privacy, AI safety, and explainability, which are critical issues that require solutions."
          },
          "metadata": {}
        }
      ],
      "source": [
        "from IPython.display import Markdown, display\n",
        "display(Markdown(summary))"
      ]
    },
    {
      "cell_type": "code",
      "source": [],
      "metadata": {
        "id": "iiux3caMfiq4"
      },
      "execution_count": null,
      "outputs": []
    }
  ],
  "metadata": {
    "colab": {
      "provenance": []
    },
    "kernelspec": {
      "display_name": "Python 3",
      "name": "python3"
    },
    "language_info": {
      "codemirror_mode": {
        "name": "ipython",
        "version": 3
      },
      "file_extension": ".py",
      "mimetype": "text/x-python",
      "name": "python",
      "nbconvert_exporter": "python",
      "pygments_lexer": "ipython3",
      "version": "3.12.7"
    }
  },
  "nbformat": 4,
  "nbformat_minor": 0
}